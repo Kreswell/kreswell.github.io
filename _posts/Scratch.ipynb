//---
//layout: post
//title: Jupyter Notebook Test
//subtitle: Test page of Jupyter notebook exported as a .ipynb file.
//tags: [test]
//---

{
 "cells": [
  {
   "cell_type": "markdown",
   "metadata": {},
   "source": [
    "# This is a test of markdown editing in Jupyter.\n",
    "\n",
    "I'm mainly interested in testing the limits of the $\\LaTeX$ formatting. It appears to support most things, including inline equations: $\\hbar = 1.0545718\\times 10^{-34}\\: kg\\cdot m^2/s$, standalone equations:\n",
    "\n",
    "$$\n",
    "    x = \\frac{-b \\pm \\sqrt{(b^2 - 4ac)}}{2a}\n",
    "$$\n",
    "\n",
    "multi-line equation blocks (using \"aligned\"):\n",
    "\n",
    "$$\n",
    "\\begin{aligned}\n",
    "    \\nabla \\cdot \\mathbf{E} &= \\frac{\\rho}{\\varepsilon_0} \\\\\n",
    "    \\nabla \\cdot \\mathbf{B} &= 0 \\\\\n",
    "    \\nabla \\times \\mathbf{E} &= -\\frac{\\partial \\mathbf{B}}{\\partial t} \\\\\n",
    "    \\nabla \\times \\mathbf{B} &= \\mu_0\\left(\\mathbf{J}+\\varepsilon_0\\frac{\\partial \\mathbf{E}}{\\partial t}\\right)\n",
    "\\end{aligned}\n",
    "$$\n",
    "\n",
    "several \"amssymb\" characters:\n",
    "\n",
    "$\\forall\\; a,\\, b \\in \\mathbb{R}\\; \\text{st.}\\; a \\le b\\; \\exists\\; c \\in \\mathbb{R}\\; \\text{st.}\\; a \\le c \\le b$\n",
    "\n",
    "\n",
    "\n",
    "$$\n",
    "    \\sum_{n=0}^{\\infty}\\frac{1}{2^n} = 2\n",
    "$$\n",
    "\n",
    "but not equation numbering. Or, at least, it doesn't support the \"label\" and \"ref\" method of equation numbering and referencing, and I haven't figured out any other syntax that does work."
   ]
  }
 ],
 "metadata": {
  "kernelspec": {
   "display_name": "Python 3",
   "language": "python",
   "name": "python3"
  },
  "language_info": {
   "codemirror_mode": {
    "name": "ipython",
    "version": 3
   },
   "file_extension": ".py",
   "mimetype": "text/x-python",
   "name": "python",
   "nbconvert_exporter": "python",
   "pygments_lexer": "ipython3",
   "version": "3.6.3"
  }
 },
 "nbformat": 4,
 "nbformat_minor": 2
}
